{
 "cells": [
  {
   "cell_type": "markdown",
   "id": "cceeb69c",
   "metadata": {},
   "source": [
    "# Data testing file\n",
    "\n",
    "*created by: Ricky Huang*\n",
    "\n",
    "\n",
    "- runs simulations based on difference $\\epsilon$"
   ]
  },
  {
   "cell_type": "code",
   "execution_count": 7,
   "id": "c8d8f3b7",
   "metadata": {
    "ExecuteTime": {
     "end_time": "2022-11-15T03:40:10.441749Z",
     "start_time": "2022-11-15T03:40:10.345810Z"
    }
   },
   "outputs": [
    {
     "name": "stdout",
     "output_type": "stream",
     "text": [
      "The autoreload extension is already loaded. To reload it, use:\n",
      "  %reload_ext autoreload\n"
     ]
    }
   ],
   "source": [
    "%load_ext autoreload\n",
    "%autoreload 2\n",
    "\n",
    "import numpy as np\n",
    "import matplotlib.pyplot as plt\n",
    "import pandas as pd\n",
    "import math\n",
    "import sys\n",
    "sys.path.append('../Utils/')\n",
    "from Sim1_Util import roundhalf\n",
    "from Sim13_ecl_Init import initialize, sim_run\n",
    "from Sim13_ecl_Batch import test_runs, test_func, setup\n",
    "from Sim13_ecl_Util import data_to_csv, csv_to_jobs, res_to_csv, plot_scatter\n",
    "\n",
    "%reload_ext autoreload"
   ]
  },
  {
   "cell_type": "code",
   "execution_count": 14,
   "id": "778b3903",
   "metadata": {
    "ExecuteTime": {
     "end_time": "2022-11-15T03:42:09.707558Z",
     "start_time": "2022-11-15T03:41:55.047273Z"
    }
   },
   "outputs": [
    {
     "name": "stdout",
     "output_type": "stream",
     "text": [
      "total jobs = 2915\n",
      "lambda = 10, originally 9.716666666666667\n",
      "mean ot = 16.301200686106345 hours\n",
      "rounded rls time = 8 hours\n",
      "original op_num: 7.929716981132074\n",
      "7 [20.20787037037037, 15.20378086419753, 16.010236625514402, 18.35331790123457, 17.625092592592594, 16.454140946502058, 16.12006172839506, 15.56369598765432, 14.996999314128942, 16.25408950617284] 2915 [29.58306989813839, 19.465316588661185, 21.34411973826035, 26.561796856136493, 25.05771180470047, 22.569594442848356, 21.80173760359724, 20.57458670149013, 19.289306020466555, 22.309016230308266]\n"
     ]
    }
   ],
   "source": [
    "path = \"ecldata/ecldata_without_float.csv\"\n",
    "jobs, jobs_prob, mean_ot, total_ot, total_jobs = csv_to_jobs(path)\n",
    "\n",
    "\n",
    "time_span = 300\n",
    "f_lam = roundhalf(total_jobs/time_span)\n",
    "f_rls = roundhalf(mean_ot/2)\n",
    "cus_num = 1\n",
    "epss = np.linspace(0.5,0,26) \n",
    "#0.5-0, 26 discrete scales (0.02)\n",
    "eps = 0.1\n",
    "\n",
    "op_num = (1+eps)*f_lam*cus_num*(mean_ot+1)/24\n",
    "\n",
    "op_num_re, avg_qsz, q_limit, avg_wt = test_runs(x0 = 0, op_num = op_num, cus_num = cus_num,\n",
    "                                        cycle = 24, cycle_num = time_span,\n",
    "                                        pause_prob = 0, mean_ot = mean_ot, total = total_jobs,\n",
    "                                        jobs_data = jobs, jobs_prob = jobs_prob, sample_rm = False,\n",
    "                                        f_lam = f_lam, f_rls = f_rls, runs = 10,\n",
    "                                        poisson = True, var_op = True, \n",
    "                                        buffer_time = 24*30, count = False)\n",
    "\n",
    "print('total jobs =',total_jobs)\n",
    "print(f'lambda = {f_lam}, originally',total_jobs/time_span)\n",
    "print(f'mean ot = {mean_ot} hours')\n",
    "print(f'rounded rls time = {f_rls} hours')\n",
    "print('original op_num:',op_num)\n",
    "\n",
    "print(op_num_re, avg_qsz, q_limit, avg_wt)"
   ]
  },
  {
   "cell_type": "code",
   "execution_count": null,
   "id": "569ee8a2",
   "metadata": {},
   "outputs": [],
   "source": []
  }
 ],
 "metadata": {
  "kernelspec": {
   "display_name": "Python 3 (ipykernel)",
   "language": "python",
   "name": "python3"
  },
  "language_info": {
   "codemirror_mode": {
    "name": "ipython",
    "version": 3
   },
   "file_extension": ".py",
   "mimetype": "text/x-python",
   "name": "python",
   "nbconvert_exporter": "python",
   "pygments_lexer": "ipython3",
   "version": "3.9.7"
  }
 },
 "nbformat": 4,
 "nbformat_minor": 5
}
